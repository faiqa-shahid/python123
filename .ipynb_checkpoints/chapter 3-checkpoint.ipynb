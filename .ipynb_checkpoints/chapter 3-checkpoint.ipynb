{
 "cells": [
  {
   "cell_type": "markdown",
   "id": "2176fd1b",
   "metadata": {},
   "source": [
    "# chapter 3"
   ]
  },
  {
   "cell_type": "markdown",
   "id": "fd0a2ddc",
   "metadata": {},
   "source": [
    "# conditional execution"
   ]
  },
  {
   "cell_type": "code",
   "execution_count": 1,
   "id": "6e9cd831",
   "metadata": {},
   "outputs": [
    {
     "name": "stdout",
     "output_type": "stream",
     "text": [
      "smaller\n",
      "finis\n"
     ]
    }
   ],
   "source": [
    "x=5\n",
    "if x<10:\n",
    "    print('smaller')\n",
    "if x>20:\n",
    "    print('bigger')\n",
    "print('finis')    "
   ]
  },
  {
   "cell_type": "code",
   "execution_count": 1,
   "id": "5b4b207f",
   "metadata": {},
   "outputs": [
    {
     "name": "stdout",
     "output_type": "stream",
     "text": [
      "Equals 5\n"
     ]
    }
   ],
   "source": [
    "x=5\n",
    "if x==5:\n",
    "    print('Equals 5')"
   ]
  },
  {
   "cell_type": "code",
   "execution_count": 2,
   "id": "dff1cbc0",
   "metadata": {},
   "outputs": [
    {
     "name": "stdout",
     "output_type": "stream",
     "text": [
      "greater than 4\n"
     ]
    }
   ],
   "source": [
    "if x>4:\n",
    "    print('greater than 4')"
   ]
  },
  {
   "cell_type": "code",
   "execution_count": 4,
   "id": "a4c1d123",
   "metadata": {},
   "outputs": [
    {
     "name": "stdout",
     "output_type": "stream",
     "text": [
      "greater than or equals 5\n"
     ]
    }
   ],
   "source": [
    "if x>=5:\n",
    "    print('greater than or equals 5')"
   ]
  },
  {
   "cell_type": "code",
   "execution_count": 5,
   "id": "2390311c",
   "metadata": {},
   "outputs": [
    {
     "name": "stdout",
     "output_type": "stream",
     "text": [
      "print less than 6\n"
     ]
    }
   ],
   "source": [
    "if x<=6:\n",
    "    print('print less than 6')"
   ]
  },
  {
   "cell_type": "code",
   "execution_count": 8,
   "id": "9c865a38",
   "metadata": {},
   "outputs": [
    {
     "name": "stdout",
     "output_type": "stream",
     "text": [
      "less than equals 5\n"
     ]
    }
   ],
   "source": [
    "if x<=5:\n",
    "    print('less than equals 5')"
   ]
  },
  {
   "cell_type": "code",
   "execution_count": 15,
   "id": "ac89afbf",
   "metadata": {},
   "outputs": [
    {
     "name": "stdout",
     "output_type": "stream",
     "text": [
      "not equal 6\n"
     ]
    }
   ],
   "source": [
    "x=5\n",
    "if x!=6:\n",
    "    print('not equal 6')"
   ]
  },
  {
   "cell_type": "code",
   "execution_count": 19,
   "id": "532d3229",
   "metadata": {},
   "outputs": [
    {
     "name": "stdout",
     "output_type": "stream",
     "text": [
      "before 5\n",
      "Is 5\n",
      "Is still 5\n",
      "Third 5\n",
      "Afterward 5\n",
      "Before 6\n",
      "Afterwards 6\n"
     ]
    }
   ],
   "source": [
    "x=5\n",
    "print('before 5')\n",
    "if x==5:\n",
    "    print('Is 5')\n",
    "    print('Is still 5')\n",
    "    print('Third 5')\n",
    "print('Afterward 5')\n",
    "print('Before 6')\n",
    "if x==6:\n",
    "    print('Is 6')\n",
    "    print('Is still 6')\n",
    "    print('Third 6')\n",
    "print('Afterwards 6')    "
   ]
  },
  {
   "cell_type": "code",
   "execution_count": 20,
   "id": "6be48fc0",
   "metadata": {},
   "outputs": [
    {
     "name": "stdout",
     "output_type": "stream",
     "text": [
      "Bigger than 2\n",
      "Still bigger\n",
      "Done with 2\n",
      "0\n",
      "print with i 0\n",
      "1\n",
      "print with i 1\n",
      "2\n",
      "print with i 2\n",
      "3\n",
      "Bigger than 2\n",
      "print with i 3\n",
      "4\n",
      "Bigger than 2\n",
      "print with i 4\n",
      "All Done\n"
     ]
    }
   ],
   "source": [
    "x=5\n",
    "if x>2:\n",
    "    print('Bigger than 2')\n",
    "    print('Still bigger')\n",
    "print('Done with 2')\n",
    "\n",
    "for i in range (5):\n",
    "    print(i)\n",
    "    if i>2:\n",
    "        print('Bigger than 2')\n",
    "    print('print with i',i)  \n",
    "print('All Done')    "
   ]
  },
  {
   "cell_type": "code",
   "execution_count": 21,
   "id": "3b9867f4",
   "metadata": {},
   "outputs": [
    {
     "name": "stdout",
     "output_type": "stream",
     "text": [
      "More than one\n",
      "less than 100\n",
      "All Done\n"
     ]
    }
   ],
   "source": [
    "x=42\n",
    "if x>1:\n",
    "    print('More than one')\n",
    "    if x<100:\n",
    "        print('less than 100')\n",
    "print('All Done')        "
   ]
  },
  {
   "cell_type": "code",
   "execution_count": 24,
   "id": "2030ec6a",
   "metadata": {},
   "outputs": [
    {
     "name": "stdout",
     "output_type": "stream",
     "text": [
      "Smaller\n",
      "All Done\n"
     ]
    }
   ],
   "source": [
    "x=4\n",
    "if x>7:\n",
    "    print ('Bigger')\n",
    "else:\n",
    "    print('Smaller')\n",
    "print('All Done')    "
   ]
  },
  {
   "cell_type": "code",
   "execution_count": 28,
   "id": "2d7a9742",
   "metadata": {},
   "outputs": [
    {
     "name": "stdout",
     "output_type": "stream",
     "text": [
      "Small\n",
      "All Done\n"
     ]
    }
   ],
   "source": [
    "x=0\n",
    "if x<2:\n",
    "    print('Small')\n",
    "elif x<10:\n",
    "    print ('Medium')\n",
    "else:\n",
    "    print('Large')\n",
    "print('All Done')    "
   ]
  },
  {
   "cell_type": "code",
   "execution_count": 29,
   "id": "415e0dc2",
   "metadata": {},
   "outputs": [
    {
     "name": "stdout",
     "output_type": "stream",
     "text": [
      "Medium\n",
      "All Done\n"
     ]
    }
   ],
   "source": [
    "x=5\n",
    "if x<2:\n",
    "    print('Small')\n",
    "elif x<10:\n",
    "    print ('Medium')\n",
    "else:\n",
    "    print('Large')\n",
    "print('All Done')    "
   ]
  },
  {
   "cell_type": "code",
   "execution_count": 30,
   "id": "c5b71ea2",
   "metadata": {},
   "outputs": [
    {
     "name": "stdout",
     "output_type": "stream",
     "text": [
      "Large\n",
      "All Done\n"
     ]
    }
   ],
   "source": [
    "x=20\n",
    "if x<2:\n",
    "    print('Small')\n",
    "elif x<10:\n",
    "    print ('Medium')\n",
    "else:\n",
    "    print('Large')\n",
    "print('All Done')    "
   ]
  },
  {
   "cell_type": "code",
   "execution_count": 33,
   "id": "e028d72c",
   "metadata": {},
   "outputs": [],
   "source": [
    "# no else"
   ]
  },
  {
   "cell_type": "code",
   "execution_count": 32,
   "id": "76cc54da",
   "metadata": {},
   "outputs": [
    {
     "name": "stdout",
     "output_type": "stream",
     "text": [
      "Medium\n",
      "All Done\n"
     ]
    }
   ],
   "source": [
    "x=5\n",
    "if x<2:\n",
    "    print('Small')\n",
    "elif x<10:\n",
    "    print ('Medium')\n",
    "print('All Done')    "
   ]
  },
  {
   "cell_type": "code",
   "execution_count": 40,
   "id": "fc99ad22",
   "metadata": {},
   "outputs": [
    {
     "name": "stdout",
     "output_type": "stream",
     "text": [
      "Huge\n"
     ]
    }
   ],
   "source": [
    "x=80\n",
    "if x<2:\n",
    "    print('Small')\n",
    "elif x<10:\n",
    "    print('Medium')\n",
    "elif x<20:\n",
    "    print('Big')\n",
    "elif x<40:\n",
    "    print('Large')\n",
    "elif x< 100:\n",
    "    print('Huge')\n",
    "else:\n",
    "    print('Ginormous')\n",
    "    "
   ]
  },
  {
   "cell_type": "code",
   "execution_count": 44,
   "id": "f942bf7b",
   "metadata": {},
   "outputs": [
    {
     "name": "stdout",
     "output_type": "stream",
     "text": [
      "Two or more\n"
     ]
    }
   ],
   "source": [
    "x=2\n",
    "if x<2:\n",
    "    print('Below 2')\n",
    "elif x>=2:\n",
    "    print('Two or more')\n",
    "else:\n",
    "    print('Something else')"
   ]
  },
  {
   "cell_type": "code",
   "execution_count": 46,
   "id": "a22936b4",
   "metadata": {},
   "outputs": [
    {
     "name": "stdout",
     "output_type": "stream",
     "text": [
      "Below 20\n"
     ]
    }
   ],
   "source": [
    "x=15\n",
    "if x<2:\n",
    "    print('Below 2')\n",
    "elif x<20:\n",
    "    print('Below 20')\n",
    "elif x<10:\n",
    "    print('Below 10')\n",
    "else:\n",
    "    print('Something else')"
   ]
  },
  {
   "cell_type": "code",
   "execution_count": 50,
   "id": "80eb653f",
   "metadata": {},
   "outputs": [
    {
     "name": "stdout",
     "output_type": "stream",
     "text": [
      "First Hello Bob\n"
     ]
    }
   ],
   "source": [
    "astr='Hello Bob'\n",
    "istr= str(astr)\n",
    "print('First',istr)"
   ]
  },
  {
   "cell_type": "code",
   "execution_count": 51,
   "id": "0d7c7cdf",
   "metadata": {},
   "outputs": [
    {
     "name": "stdout",
     "output_type": "stream",
     "text": [
      "Second 123\n"
     ]
    }
   ],
   "source": [
    "astr='123'\n",
    "istr= int(astr)\n",
    "print('Second',istr)"
   ]
  },
  {
   "cell_type": "code",
   "execution_count": 54,
   "id": "d50ab29b",
   "metadata": {},
   "outputs": [
    {
     "name": "stdout",
     "output_type": "stream",
     "text": [
      "First -1\n"
     ]
    }
   ],
   "source": [
    "astr='Hello Bob'\n",
    "try:\n",
    "    istr=int(astr)\n",
    "except:\n",
    "    istr=-1\n",
    "print('First',istr)   "
   ]
  },
  {
   "cell_type": "code",
   "execution_count": 56,
   "id": "a704340d",
   "metadata": {},
   "outputs": [
    {
     "name": "stdout",
     "output_type": "stream",
     "text": [
      "Second 123\n"
     ]
    }
   ],
   "source": [
    "astr='123'\n",
    "try:\n",
    "    istr=int(astr)\n",
    "except:\n",
    "    istr=-1\n",
    "print('Second',istr)   "
   ]
  },
  {
   "cell_type": "code",
   "execution_count": 57,
   "id": "73e77bbf",
   "metadata": {},
   "outputs": [
    {
     "name": "stdout",
     "output_type": "stream",
     "text": [
      "Hello\n",
      "Done -1\n"
     ]
    }
   ],
   "source": [
    "astr ='Bob'\n",
    "try:\n",
    "    print('Hello')\n",
    "    istr=int(astr)\n",
    "    print('There')\n",
    "except:\n",
    "    istr=-1\n",
    "    print('Done',istr)"
   ]
  },
  {
   "cell_type": "code",
   "execution_count": 59,
   "id": "d1d114d1",
   "metadata": {},
   "outputs": [
    {
     "name": "stdout",
     "output_type": "stream",
     "text": [
      "Enter a number:45\n",
      "nice work\n"
     ]
    }
   ],
   "source": [
    "rawstr= input('Enter a number:')\n",
    "try :\n",
    "    ival=int(rawstr)\n",
    "except:\n",
    "    ival=-1\n",
    "if ival>0 :\n",
    "    print('nice work')\n",
    "else:\n",
    "    print('Not a Number')"
   ]
  },
  {
   "cell_type": "code",
   "execution_count": null,
   "id": "7dfa3104",
   "metadata": {},
   "outputs": [],
   "source": []
  }
 ],
 "metadata": {
  "kernelspec": {
   "display_name": "Python 3 (ipykernel)",
   "language": "python",
   "name": "python3"
  },
  "language_info": {
   "codemirror_mode": {
    "name": "ipython",
    "version": 3
   },
   "file_extension": ".py",
   "mimetype": "text/x-python",
   "name": "python",
   "nbconvert_exporter": "python",
   "pygments_lexer": "ipython3",
   "version": "3.11.4"
  }
 },
 "nbformat": 4,
 "nbformat_minor": 5
}
